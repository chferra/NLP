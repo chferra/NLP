{
 "cells": [
  {
   "cell_type": "markdown",
   "metadata": {},
   "source": [
    "# Libraries"
   ]
  },
  {
   "cell_type": "code",
   "execution_count": 4,
   "metadata": {
    "_cell_guid": "b1076dfc-b9ad-4769-8c92-a6c4dae69d19",
    "_uuid": "8f2839f25d086af736a60e9eeb907d3b93b6e0e5",
    "trusted": true
   },
   "outputs": [],
   "source": [
    "# 📦 Library installation\n",
    "\n",
    "#may give you truble depending on the permission on your os\n",
    "# %pip install numpy transformers datasets accelerate peft evaluate --user\n",
    "\n",
    "# ⚙️ Library import\n",
    "\n",
    "import os\n",
    "import numpy as np\n",
    "from tqdm.auto import tqdm\n",
    "\n",
    "# Datasets management\n",
    "from datasets import load_dataset, Dataset, DatasetDict, load_from_disk\n",
    "\n",
    "# HuggingFace Transformers\n",
    "from transformers import (\n",
    "    T5Tokenizer,\n",
    "    AutoTokenizer, \n",
    "    AutoModelForSeq2SeqLM, \n",
    "    Seq2SeqTrainer, \n",
    "    Seq2SeqTrainingArguments\n",
    ")\n",
    "\n",
    "# PEFT (Parameter Efficient Fine Tuning - for LoRA)\n",
    "from peft import LoraConfig, get_peft_model, prepare_model_for_kbit_training\n",
    "\n",
    "from functools import partial\n",
    "\n",
    "from evaluate import load"
   ]
  },
  {
   "cell_type": "markdown",
   "metadata": {},
   "source": [
    "# Paths"
   ]
  },
  {
   "cell_type": "code",
   "execution_count": null,
   "metadata": {},
   "outputs": [],
   "source": [
    "data_path = \"\"\n",
    "result_path = \"Results\"\n",
    "\n",
    "#Scores\n",
    "train_score_path = \"Scores/xenc_scores_train-stsb-distilroberta-base.npy\"\n",
    "test_score_path = \"Scores/xenc_scores_test-stsb-distilroberta-base.npy\"\n",
    "\n",
    "#Tokenized preprocessed data\n",
    "dataset_path_K3 = \"Processed Data/tokenized_data_K=3\"\n",
    "dataset_path_K2 = \"Processed Data/tokenized_data_K=2\"\n",
    "\n",
    "#Models\n",
    "model_path_t5 = \"Models/t5_small\"\n",
    "model_path_flant5 = \"Models/flan_t5_small\"\n",
    "\n",
    "#Results\n",
    "t5 = \"t5_small\"\n",
    "flant5 = \"flan_t5_small\"\n",
    "\n",
    "full_ft= \"full_fine_tuning\"\n",
    "LoRA_ft = \"LoRA_fine_tuning\"\n",
    "\n",
    "\n",
    "\n",
    "k_2 = \"K=2\"\n",
    "k_3 = \"K=3\""
   ]
  },
  {
   "cell_type": "markdown",
   "metadata": {},
   "source": [
    "# Pretraining configurations"
   ]
  },
  {
   "cell_type": "markdown",
   "metadata": {},
   "source": [
    "## Model Selection\n",
    "\n",
    "*Run only one cell depending on the model you want to train*"
   ]
  },
  {
   "cell_type": "markdown",
   "metadata": {},
   "source": [
    "## Load Model"
   ]
  },
  {
   "cell_type": "code",
   "execution_count": null,
   "metadata": {},
   "outputs": [],
   "source": [
    "tokenizer = AutoTokenizer.from_pretrained(data_path)\n",
    "model = AutoModelForSeq2SeqLM.from_pretrained(data_path)"
   ]
  },
  {
   "cell_type": "markdown",
   "metadata": {},
   "source": [
    "## Trainer Selection\n",
    "\n",
    "*Run only one cell depending on the type of trainig you want to perform*"
   ]
  },
  {
   "cell_type": "markdown",
   "metadata": {},
   "source": [
    "### 1. Full fine tuning trainer"
   ]
  },
  {
   "cell_type": "code",
   "execution_count": null,
   "metadata": {},
   "outputs": [],
   "source": [
    "model = model\n",
    "result_path += \"/\" + full_ft"
   ]
  },
  {
   "cell_type": "markdown",
   "metadata": {},
   "source": [
    "### 2. LoRA fine-tuning"
   ]
  },
  {
   "cell_type": "code",
   "execution_count": null,
   "metadata": {},
   "outputs": [],
   "source": [
    "lora_config = LoraConfig(\n",
    "    r=8,                         # rank dimention\n",
    "    lora_alpha=16,               # scaling factor\n",
    "    target_modules=[\"q\", \"v\"],   # which layer to applay to LoRA\n",
    "    lora_dropout=0.1,\n",
    "    bias=\"none\",\n",
    "    task_type=\"SEQ_2_SEQ_LM\"\n",
    ")\n",
    "\n",
    "model = get_peft_model(model, lora_config)\n",
    "result_path += \"/\" + LoRA_ft"
   ]
  },
  {
   "cell_type": "markdown",
   "metadata": {},
   "source": [
    "### 1. T5-small"
   ]
  },
  {
   "cell_type": "code",
   "execution_count": null,
   "metadata": {},
   "outputs": [],
   "source": [
    "data_path = model_path_t5\n",
    "result_path += \"/\" + t5"
   ]
  },
  {
   "cell_type": "markdown",
   "metadata": {},
   "source": [
    "### 2. FLAN-T5-small"
   ]
  },
  {
   "cell_type": "code",
   "execution_count": null,
   "metadata": {},
   "outputs": [],
   "source": [
    "data_path = model_path_flant5\n",
    "result_path += \"/\" + flant5"
   ]
  },
  {
   "cell_type": "markdown",
   "metadata": {},
   "source": [
    "## Dataset Selection\n",
    "\n",
    "*Run only one cell depending on the dataset you want to load*"
   ]
  },
  {
   "cell_type": "markdown",
   "metadata": {},
   "source": [
    "### 1. K = 2 dataset"
   ]
  },
  {
   "cell_type": "code",
   "execution_count": null,
   "metadata": {
    "trusted": true
   },
   "outputs": [],
   "source": [
    "data_path = dataset_path_K2\n",
    "result_path += \"/\" + k_2"
   ]
  },
  {
   "cell_type": "markdown",
   "metadata": {},
   "source": [
    "### 2. K = 3 dataset"
   ]
  },
  {
   "cell_type": "code",
   "execution_count": null,
   "metadata": {
    "trusted": true
   },
   "outputs": [],
   "source": [
    "data_path = dataset_path_K3\n",
    "result_path += \"/\" + k_3"
   ]
  },
  {
   "cell_type": "markdown",
   "metadata": {},
   "source": [
    "## Load Dataset"
   ]
  },
  {
   "cell_type": "code",
   "execution_count": null,
   "metadata": {
    "trusted": true
   },
   "outputs": [],
   "source": [
    "loaded_train_dataset = load_dataset('train', data_path)\n",
    "loaded_test_dataset = load_dataset('test', data_path)\n",
    "\n",
    "print(loaded_train_dataset[0].keys())\n",
    "print(len(loaded_train_dataset))\n",
    "\n",
    "print(loaded_test_dataset[0].keys())\n",
    "print(len(loaded_test_dataset))"
   ]
  },
  {
   "cell_type": "markdown",
   "metadata": {},
   "source": [
    "## Metric function"
   ]
  },
  {
   "cell_type": "code",
   "execution_count": null,
   "metadata": {
    "trusted": true
   },
   "outputs": [],
   "source": [
    "# to personalize with the metrics we want\n",
    "def compute_metrics(eval_preds):\n",
    "\n",
    "    preds, labels = eval_preds\n",
    "    preds = np.where(preds != -100, preds, tokenizer.pad_token_id)\n",
    "    decoded_preds = tokenizer.batch_decode(preds, skip_special_tokens=True)\n",
    "    decoded_labels = tokenizer.batch_decode(labels, skip_special_tokens=True)\n",
    "\n",
    "    # Usa BLEU o ROUGE se vuoi (qui mostro solo es.)\n",
    "    metric = load(\"sacrebleu\")\n",
    "    bleu = metric.compute(predictions=decoded_preds, references=[[l] for l in decoded_labels])\n",
    "    return {\"bleu\": bleu[\"score\"]}"
   ]
  },
  {
   "cell_type": "markdown",
   "metadata": {},
   "source": [
    "## Training Arguments"
   ]
  },
  {
   "cell_type": "code",
   "execution_count": null,
   "metadata": {
    "trusted": true
   },
   "outputs": [],
   "source": [
    "training_args = Seq2SeqTrainingArguments(\n",
    "    output_dir= result_path,                  # Save location\n",
    "    evaluation_strategy=\"epoch\",              # evaluates at each epoch\n",
    "    learning_rate=5e-5,                       \n",
    "    per_device_train_batch_size=8,            \n",
    "    per_device_eval_batch_size=8,\n",
    "    weight_decay=0.01,\n",
    "    save_total_limit=2,                       # Saves only the last 2 checkpoints\n",
    "    num_train_epochs=3,\n",
    "    predict_with_generate=True,               # Use generate() evaluation\n",
    "    logging_dir=\"/kaggle/working/logs\",\n",
    "    logging_strategy=\"steps\",\n",
    "    logging_steps=100,\n",
    "    save_strategy=\"epoch\",\n",
    "    load_best_model_at_end=True,\n",
    "    metric_for_best_model=\"eval_loss\",\n",
    ")"
   ]
  },
  {
   "cell_type": "markdown",
   "metadata": {},
   "source": [
    "## Create Trainer"
   ]
  },
  {
   "cell_type": "code",
   "execution_count": null,
   "metadata": {
    "trusted": true
   },
   "outputs": [],
   "source": [
    "trainer = Seq2SeqTrainer(\n",
    "    model=model,\n",
    "    args=training_args,\n",
    "    train_dataset=loaded_train_dataset,\n",
    "    eval_dataset=loaded_test_dataset,\n",
    "    tokenizer=tokenizer,\n",
    "    compute_metrics=compute_metrics,\n",
    ")"
   ]
  },
  {
   "cell_type": "markdown",
   "metadata": {},
   "source": [
    "# Training"
   ]
  },
  {
   "cell_type": "markdown",
   "metadata": {},
   "source": [
    "## Start Training"
   ]
  },
  {
   "cell_type": "code",
   "execution_count": null,
   "metadata": {
    "trusted": true
   },
   "outputs": [],
   "source": [
    "trainer.train()"
   ]
  }
 ],
 "metadata": {
  "kaggle": {
   "accelerator": "none",
   "dataSources": [
    {
     "datasetId": 7316993,
     "sourceId": 11659624,
     "sourceType": "datasetVersion"
    },
    {
     "datasetId": 7317384,
     "sourceId": 11660169,
     "sourceType": "datasetVersion"
    }
   ],
   "dockerImageVersionId": 31012,
   "isGpuEnabled": false,
   "isInternetEnabled": true,
   "language": "python",
   "sourceType": "notebook"
  },
  "kernelspec": {
   "display_name": "Python 3",
   "language": "python",
   "name": "python3"
  },
  "language_info": {
   "codemirror_mode": {
    "name": "ipython",
    "version": 3
   },
   "file_extension": ".py",
   "mimetype": "text/x-python",
   "name": "python",
   "nbconvert_exporter": "python",
   "pygments_lexer": "ipython3",
   "version": "3.12.1"
  }
 },
 "nbformat": 4,
 "nbformat_minor": 4
}
